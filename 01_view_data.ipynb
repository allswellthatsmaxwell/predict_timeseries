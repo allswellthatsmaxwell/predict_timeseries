{
 "cells": [
  {
   "cell_type": "markdown",
   "metadata": {},
   "source": [
    "# Views and describes the data, before much processing."
   ]
  },
  {
   "cell_type": "code",
   "execution_count": 1,
   "metadata": {},
   "outputs": [],
   "source": [
    "#default_exp surveyors"
   ]
  },
  {
   "cell_type": "code",
   "execution_count": 2,
   "metadata": {},
   "outputs": [],
   "source": [
    "%load_ext autoreload\n",
    "%autoreload 2\n",
    "%matplotlib inline\n",
    "%config Completer.use_jedi = False"
   ]
  },
  {
   "cell_type": "code",
   "execution_count": 3,
   "metadata": {},
   "outputs": [],
   "source": [
    "from matplotlib import pyplot as plt\n",
    "import seaborn as sns\n",
    "import plotnine as pn\n",
    "\n",
    "#export\n",
    "import restaurants_timeseries.core as core"
   ]
  },
  {
   "cell_type": "code",
   "execution_count": 4,
   "metadata": {},
   "outputs": [],
   "source": [
    "#export\n",
    "class VisitsSurveyor:\n",
    "    def __init__(self, visits: core.pd.DataFrame, make_report: bool):\n",
    "        self.make_report = make_report\n",
    "        self.visits = visits\n",
    "        self.assign_never_visited()\n",
    "        self.filter_zero_periods()\n",
    "        self.count_visited_days()\n",
    "    \n",
    "    def report(self, s: str):\n",
    "        if self.make_report:\n",
    "            if issubclass(type(s), core.pd.DataFrame):\n",
    "                display(s)\n",
    "            else:\n",
    "                print(s)\n",
    "        \n",
    "    def assign_never_visited(self):        \n",
    "        self.store_counts = self.visits.groupby('air_store_id').visitors.sum()\n",
    "        self.never_visited = self.store_counts[self.store_counts == 0]\n",
    "        self.report(\"The visits data looks like this:\")\n",
    "        self.report(self.visits.head())\n",
    "        self.report(\" \")        \n",
    "        self.report(f\"There are {len(self.store_counts)} stores.\")\n",
    "        self.report(f\"{len(self.never_visited)} stores had no visits ever.\")\n",
    "\n",
    "    def filter_zero_periods(self):\n",
    "        self.daily_total_visits = (\n",
    "            self.visits\n",
    "            [['visit_date', 'visitors']]\n",
    "            .groupby('visit_date')\n",
    "            .sum()\n",
    "            .reset_index())\n",
    "        earliest_day = self.daily_total_visits.query(\"visitors > 0\").min().iloc[0]        \n",
    "        latest_day = self.daily_total_visits.query(\"visitors > 0\").max().iloc[0]\n",
    "        self.visits = self.visits[\n",
    "            (self.visits.visit_date >= earliest_day) &\n",
    "            (self.visits.visit_date <= latest_day)]\n",
    "        self.report(f\"Populated data is from {earliest_day} to {latest_day}.\")\n",
    "        \n",
    "    def count_visited_days(self):\n",
    "        self.visited_days_counts = (\n",
    "            self.visits[self.visits.visitors > 0].\n",
    "            groupby('air_store_id')['visitors'].\n",
    "            count().\n",
    "            reset_index(name='days_visited'))\n",
    "        if self.make_report:\n",
    "            plt.figure(figsize=(8, 4))\n",
    "            (sns.histplot(data=self.visited_days_counts['days_visited']).\n",
    "             set(title=\"How many stores were visited e.g. 300+ times?\",\n",
    "                 xlabel=\"days with at least 1 visit\", ylabel=\"stores\"))"
   ]
  },
  {
   "cell_type": "code",
   "execution_count": 5,
   "metadata": {},
   "outputs": [
    {
     "name": "stdout",
     "output_type": "stream",
     "text": [
      "The visits data looks like this:\n"
     ]
    },
    {
     "data": {
      "text/html": [
       "<div>\n",
       "<style scoped>\n",
       "    .dataframe tbody tr th:only-of-type {\n",
       "        vertical-align: middle;\n",
       "    }\n",
       "\n",
       "    .dataframe tbody tr th {\n",
       "        vertical-align: top;\n",
       "    }\n",
       "\n",
       "    .dataframe thead th {\n",
       "        text-align: right;\n",
       "    }\n",
       "</style>\n",
       "<table border=\"1\" class=\"dataframe\">\n",
       "  <thead>\n",
       "    <tr style=\"text-align: right;\">\n",
       "      <th></th>\n",
       "      <th>air_store_id</th>\n",
       "      <th>air_genre_name</th>\n",
       "      <th>air_area_name</th>\n",
       "      <th>latitude</th>\n",
       "      <th>longitude</th>\n",
       "      <th>visit_date</th>\n",
       "      <th>day_of_week</th>\n",
       "      <th>holiday_flg</th>\n",
       "      <th>visitors</th>\n",
       "    </tr>\n",
       "  </thead>\n",
       "  <tbody>\n",
       "    <tr>\n",
       "      <th>0</th>\n",
       "      <td>air_0f0cdeee6c9bf3d7</td>\n",
       "      <td>Italian/French</td>\n",
       "      <td>Hyōgo-ken Kōbe-shi Kumoidōri</td>\n",
       "      <td>34.695124</td>\n",
       "      <td>135.197852</td>\n",
       "      <td>2016-01-01</td>\n",
       "      <td>Friday</td>\n",
       "      <td>1</td>\n",
       "      <td>0</td>\n",
       "    </tr>\n",
       "    <tr>\n",
       "      <th>1</th>\n",
       "      <td>air_0f0cdeee6c9bf3d7</td>\n",
       "      <td>Italian/French</td>\n",
       "      <td>Hyōgo-ken Kōbe-shi Kumoidōri</td>\n",
       "      <td>34.695124</td>\n",
       "      <td>135.197852</td>\n",
       "      <td>2016-01-02</td>\n",
       "      <td>Saturday</td>\n",
       "      <td>1</td>\n",
       "      <td>0</td>\n",
       "    </tr>\n",
       "    <tr>\n",
       "      <th>2</th>\n",
       "      <td>air_0f0cdeee6c9bf3d7</td>\n",
       "      <td>Italian/French</td>\n",
       "      <td>Hyōgo-ken Kōbe-shi Kumoidōri</td>\n",
       "      <td>34.695124</td>\n",
       "      <td>135.197852</td>\n",
       "      <td>2016-01-03</td>\n",
       "      <td>Sunday</td>\n",
       "      <td>1</td>\n",
       "      <td>0</td>\n",
       "    </tr>\n",
       "    <tr>\n",
       "      <th>3</th>\n",
       "      <td>air_0f0cdeee6c9bf3d7</td>\n",
       "      <td>Italian/French</td>\n",
       "      <td>Hyōgo-ken Kōbe-shi Kumoidōri</td>\n",
       "      <td>34.695124</td>\n",
       "      <td>135.197852</td>\n",
       "      <td>2016-01-04</td>\n",
       "      <td>Monday</td>\n",
       "      <td>0</td>\n",
       "      <td>0</td>\n",
       "    </tr>\n",
       "    <tr>\n",
       "      <th>4</th>\n",
       "      <td>air_0f0cdeee6c9bf3d7</td>\n",
       "      <td>Italian/French</td>\n",
       "      <td>Hyōgo-ken Kōbe-shi Kumoidōri</td>\n",
       "      <td>34.695124</td>\n",
       "      <td>135.197852</td>\n",
       "      <td>2016-01-05</td>\n",
       "      <td>Tuesday</td>\n",
       "      <td>0</td>\n",
       "      <td>0</td>\n",
       "    </tr>\n",
       "  </tbody>\n",
       "</table>\n",
       "</div>"
      ],
      "text/plain": [
       "           air_store_id  air_genre_name                 air_area_name  \\\n",
       "0  air_0f0cdeee6c9bf3d7  Italian/French  Hyōgo-ken Kōbe-shi Kumoidōri   \n",
       "1  air_0f0cdeee6c9bf3d7  Italian/French  Hyōgo-ken Kōbe-shi Kumoidōri   \n",
       "2  air_0f0cdeee6c9bf3d7  Italian/French  Hyōgo-ken Kōbe-shi Kumoidōri   \n",
       "3  air_0f0cdeee6c9bf3d7  Italian/French  Hyōgo-ken Kōbe-shi Kumoidōri   \n",
       "4  air_0f0cdeee6c9bf3d7  Italian/French  Hyōgo-ken Kōbe-shi Kumoidōri   \n",
       "\n",
       "    latitude   longitude  visit_date day_of_week  holiday_flg  visitors  \n",
       "0  34.695124  135.197852  2016-01-01      Friday            1         0  \n",
       "1  34.695124  135.197852  2016-01-02    Saturday            1         0  \n",
       "2  34.695124  135.197852  2016-01-03      Sunday            1         0  \n",
       "3  34.695124  135.197852  2016-01-04      Monday            0         0  \n",
       "4  34.695124  135.197852  2016-01-05     Tuesday            0         0  "
      ]
     },
     "metadata": {},
     "output_type": "display_data"
    },
    {
     "name": "stdout",
     "output_type": "stream",
     "text": [
      " \n",
      "There are 829 stores.\n",
      "0 stores had no visits ever.\n",
      "Populated data is from 2016-01-01 to 2017-04-22.\n"
     ]
    },
    {
     "data": {
      "image/png": "[encoded data removed]",
      "text/plain": [
       "<Figure size 576x288 with 1 Axes>"
      ]
     },
     "metadata": {
      "needs_background": "light"
     },
     "output_type": "display_data"
    }
   ],
   "source": [
    "vs = VisitsSurveyor(core.data['visits'], True)"
   ]
  },
  {
   "cell_type": "code",
   "execution_count": 6,
   "metadata": {},
   "outputs": [],
   "source": [
    "#export\n",
    "vs = VisitsSurveyor(core.data['visits'], False)\n",
    "populated_store_id = vs.visited_days_counts.sort_values(by='days_visited', ascending=False).air_store_id[0]"
   ]
  },
  {
   "cell_type": "code",
   "execution_count": 7,
   "metadata": {},
   "outputs": [
    {
     "name": "stdout",
     "output_type": "stream",
     "text": [
      "Converted 00_core.ipynb.\n",
      "Converted 01_view_data.ipynb.\n",
      "Converted 02_model_one.ipynb.\n",
      "Converted index.ipynb.\n"
     ]
    }
   ],
   "source": [
    "from nbdev.export import *\n",
    "notebook2script()"
   ]
  },
  {
   "cell_type": "code",
   "execution_count": null,
   "metadata": {},
   "outputs": [],
   "source": []
  }
 ],
 "metadata": {
  "kernelspec": {
   "display_name": "Python 3",
   "language": "python",
   "name": "python3"
  },
  "language_info": {
   "codemirror_mode": {
    "name": "ipython",
    "version": 3
   },
   "file_extension": ".py",
   "mimetype": "text/x-python",
   "name": "python",
   "nbconvert_exporter": "python",
   "pygments_lexer": "ipython3",
   "version": "3.8.6"
  }
 },
 "nbformat": 4,
 "nbformat_minor": 4
}
