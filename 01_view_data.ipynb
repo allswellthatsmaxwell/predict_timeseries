{
 "cells": [
  {
   "cell_type": "code",
   "execution_count": 9,
   "metadata": {},
   "outputs": [],
   "source": [
    "from restaurants_timeseries.core import data"
   ]
  },
  {
   "cell_type": "code",
   "execution_count": 10,
   "metadata": {},
   "outputs": [
    {
     "data": {
      "text/plain": [
       "{'visits':                 air_store_id  visit_date  visitors\n",
       " 0       air_ba937bf13d40fb24  2016-01-13        25\n",
       " 1       air_ba937bf13d40fb24  2016-01-14        32\n",
       " 2       air_ba937bf13d40fb24  2016-01-15        29\n",
       " 3       air_ba937bf13d40fb24  2016-01-16        22\n",
       " 4       air_ba937bf13d40fb24  2016-01-18         6\n",
       " ...                      ...         ...       ...\n",
       " 252103  air_24e8414b9b07decb  2017-04-18         6\n",
       " 252104  air_24e8414b9b07decb  2017-04-19         6\n",
       " 252105  air_24e8414b9b07decb  2017-04-20         7\n",
       " 252106  air_24e8414b9b07decb  2017-04-21         8\n",
       " 252107  air_24e8414b9b07decb  2017-04-22         5\n",
       " \n",
       " [252108 rows x 3 columns],\n",
       " 'store_info':              air_store_id         air_genre_name  \\\n",
       " 0    air_0f0cdeee6c9bf3d7         Italian/French   \n",
       " 1    air_7cc17a324ae5c7dc         Italian/French   \n",
       " 2    air_fee8dcf4d619598e         Italian/French   \n",
       " 3    air_a17f0778617c76e2         Italian/French   \n",
       " 4    air_83db5aff8f50478e         Italian/French   \n",
       " ..                    ...                    ...   \n",
       " 824  air_9bf595ef095572fb  International cuisine   \n",
       " 825  air_764f71040a413d4d                  Asian   \n",
       " 826  air_10bbe8acd943d8f6                  Asian   \n",
       " 827  air_7514d90009613cd6          Karaoke/Party   \n",
       " 828  air_c8fe396d6c46275d          Karaoke/Party   \n",
       " \n",
       "                              air_area_name   latitude   longitude  \n",
       " 0             Hyōgo-ken Kōbe-shi Kumoidōri  34.695124  135.197852  \n",
       " 1             Hyōgo-ken Kōbe-shi Kumoidōri  34.695124  135.197852  \n",
       " 2             Hyōgo-ken Kōbe-shi Kumoidōri  34.695124  135.197852  \n",
       " 3             Hyōgo-ken Kōbe-shi Kumoidōri  34.695124  135.197852  \n",
       " 4             Tōkyō-to Minato-ku Shibakōen  35.658068  139.751599  \n",
       " ..                                     ...        ...         ...  \n",
       " 824            Tōkyō-to Shibuya-ku Shibuya  35.661777  139.704051  \n",
       " 825            Tōkyō-to Shibuya-ku Shibuya  35.661777  139.704051  \n",
       " 826            Tōkyō-to Shibuya-ku Shibuya  35.661777  139.704051  \n",
       " 827  Hokkaidō Sapporo-shi Minami 3 Jōnishi  43.055460  141.340956  \n",
       " 828  Hokkaidō Sapporo-shi Minami 3 Jōnishi  43.055460  141.340956  \n",
       " \n",
       " [829 rows x 5 columns],\n",
       " 'reservations':                air_store_id       visit_datetime     reserve_datetime  \\\n",
       " 0      air_877f79706adbfb06  2016-01-01 19:00:00  2016-01-01 16:00:00   \n",
       " 1      air_db4b38ebe7a7ceff  2016-01-01 19:00:00  2016-01-01 19:00:00   \n",
       " 2      air_db4b38ebe7a7ceff  2016-01-01 19:00:00  2016-01-01 19:00:00   \n",
       " 3      air_877f79706adbfb06  2016-01-01 20:00:00  2016-01-01 16:00:00   \n",
       " 4      air_db80363d35f10926  2016-01-01 20:00:00  2016-01-01 01:00:00   \n",
       " ...                     ...                  ...                  ...   \n",
       " 92373  air_db4b38ebe7a7ceff  2017-05-29 18:00:00  2017-04-17 19:00:00   \n",
       " 92374  air_1033310359ceeac1  2017-05-30 23:00:00  2017-04-19 17:00:00   \n",
       " 92375  air_877f79706adbfb06  2017-05-31 20:00:00  2017-04-12 23:00:00   \n",
       " 92376  air_900d755ebd2f7bbd  2017-05-31 20:00:00  2017-04-19 16:00:00   \n",
       " 92377  air_3cad29d1a23209d2  2017-05-31 21:00:00  2017-04-22 10:00:00   \n",
       " \n",
       "        reserve_visitors  \n",
       " 0                     1  \n",
       " 1                     3  \n",
       " 2                     6  \n",
       " 3                     2  \n",
       " 4                     5  \n",
       " ...                 ...  \n",
       " 92373                 6  \n",
       " 92374                 8  \n",
       " 92375                 3  \n",
       " 92376                10  \n",
       " 92377                 3  \n",
       " \n",
       " [92378 rows x 4 columns],\n",
       " 'date_info':     calendar_date day_of_week  holiday_flg\n",
       " 0      2016-01-01      Friday            1\n",
       " 1      2016-01-02    Saturday            1\n",
       " 2      2016-01-03      Sunday            1\n",
       " 3      2016-01-04      Monday            0\n",
       " 4      2016-01-05     Tuesday            0\n",
       " ..            ...         ...          ...\n",
       " 512    2017-05-27    Saturday            0\n",
       " 513    2017-05-28      Sunday            0\n",
       " 514    2017-05-29      Monday            0\n",
       " 515    2017-05-30     Tuesday            0\n",
       " 516    2017-05-31   Wednesday            0\n",
       " \n",
       " [517 rows x 3 columns]}"
      ]
     },
     "execution_count": 10,
     "metadata": {},
     "output_type": "execute_result"
    }
   ],
   "source": [
    "data"
   ]
  },
  {
   "cell_type": "code",
   "execution_count": null,
   "metadata": {},
   "outputs": [],
   "source": []
  }
 ],
 "metadata": {
  "kernelspec": {
   "display_name": "Python 3",
   "language": "python",
   "name": "python3"
  },
  "language_info": {
   "codemirror_mode": {
    "name": "ipython",
    "version": 3
   },
   "file_extension": ".py",
   "mimetype": "text/x-python",
   "name": "python",
   "nbconvert_exporter": "python",
   "pygments_lexer": "ipython3",
   "version": "3.8.6"
  }
 },
 "nbformat": 4,
 "nbformat_minor": 4
}
