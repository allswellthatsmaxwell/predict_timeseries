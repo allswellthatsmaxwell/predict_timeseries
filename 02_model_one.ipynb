{
 "cells": [
  {
   "cell_type": "code",
   "execution_count": 1,
   "metadata": {},
   "outputs": [],
   "source": [
    "%config Completer.use_jedi = False\n",
    "%config InlineBackend.figure_format = 'svg'"
   ]
  },
  {
   "cell_type": "code",
   "execution_count": 2,
   "metadata": {},
   "outputs": [
    {
     "name": "stdout",
     "output_type": "stream",
     "text": [
      "Input is multiple stores.\n"
     ]
    }
   ],
   "source": [
    "import restaurants_timeseries.core as core\n",
    "import restaurants_timeseries.surveyors as surveyors\n",
    "\n",
    "import GPy\n",
    "import plotnine as pn\n",
    "import pandas as pd\n",
    "import numpy as np\n",
    "from typing import List\n",
    "from mizani.formatters import date_format\n",
    "from fastcore.foundation import patch\n",
    "import warnings"
   ]
  },
  {
   "cell_type": "code",
   "execution_count": 3,
   "metadata": {},
   "outputs": [],
   "source": [
    "pn.options.figure_size = figure_size=(15, 4)\n",
    "RESPONSE = 'visitors'\n",
    "VAL_DAYS = 45 * 2\n",
    "DAYS_IN_WEEK = 7\n",
    "\n",
    "def default_date_scale():\n",
    "    return [pn.scale_x_date(breaks=\"1 week\", labels=date_format(\"%b %d '%y\"))]\n",
    "\n",
    "def plot_single_timeseries(dat: pd.DataFrame):\n",
    "    return (\n",
    "        pn.ggplot(dat, pn.aes('visit_date', 'visitors', color='dataset')) +\n",
    "        pn.geom_line(pn.aes(group='air_store_id')) +\n",
    "        pn.theme_bw() +\n",
    "        pn.theme(axis_text_x=pn.element_text(angle=90*3, size=9),\n",
    "                 panel_grid=pn.element_blank(),\n",
    "                 legend_position=\"top\", legend_title=pn.element_blank()))\n",
    "\n",
    "\n",
    "def make_predictions_frame(days: List[int], dates, means: List[float], \n",
    "                           variances: List[float]) -> pd.DataFrame:\n",
    "    pred_dat = pd.DataFrame({'day': days, 'visit_date': dates, 'mean': means, \n",
    "                             'var': variances, 'sd': np.sqrt(variances)})\n",
    "    pred_dat.loc[:, 'mean'] = np.maximum(0.0, pred_dat['mean'])\n",
    "    pred_dat.loc[:, 'lower_bound'] = np.maximum(0.0, pred_dat['mean'] - 2 * pred_dat['sd'])\n",
    "    pred_dat.loc[:, 'upper_bound'] = np.maximum(0.0, pred_dat['mean'] + 2 * pred_dat['sd'])\n",
    "    return pred_dat\n",
    "\n",
    "\n",
    "class Set:\n",
    "    \"\"\" \n",
    "    Stores a dataframe and its corresponding \n",
    "    X matrix and y vector (prediction and response). \n",
    "    \"\"\"\n",
    "    def __init__(self, dat, predictors: List[str], response: str = RESPONSE):\n",
    "        self.data = dat.copy()\n",
    "        self.X = dat[predictors].to_numpy()\n",
    "        self.y = dat[[response]].to_numpy()\n",
    "\n",
    "@patch\n",
    "def split_datasets(self: surveyors.VisitsSurveyor, val_days: int, predictors: List[str]):\n",
    "    \"\"\"\n",
    "    Splits self.visits into Training and Validation sets, setting the fields `trn` and `val`.\n",
    "    Also adds the column `dataset` to self.visits.\n",
    "    \"\"\"\n",
    "    self.predictors = predictors\n",
    "    if len(self.visits['air_store_id'].unique()) > 1:\n",
    "        raise ValueError(\n",
    "            \"This class only supports a dataframe of a single 'air_store_id' right now.\")\n",
    "    earliest = surveyors.get_earliest_date(self.visits)\n",
    "    latest = surveyors.get_latest_date(self.visits)\n",
    "    self.visits['dataset'] = ['Training' if (latest - visit_date).days >= val_days else 'Validation'\n",
    "                              for visit_date in self.visits['visit_date']]\n",
    "    self.visits['group'] = 'group' # for plotnine line connections\n",
    "    split_counts = dict(self.visits.groupby('dataset').count()['air_store_id'])    \n",
    "    if split_counts['Validation'] != val_days:\n",
    "        warnings.warn(f\"Expected to find {val_days} days in the validation set, \" +\n",
    "                      f\"but found {split_counts['Validation']} instead.\")\n",
    "    if split_counts['Training'] < split_counts['Validation']:\n",
    "        warnings.warn(f\"Less training days than validation days: {split_counts}.\")\n",
    "    assert self.visits['dataset'].count()    \n",
    "    \n",
    "    self.trn = Set(self.visits.query(\"dataset == 'Training'\"), predictors)\n",
    "    self.val = Set(self.visits.query(\"dataset == 'Validation'\"), predictors)\n",
    "\n",
    "\n",
    "@patch\n",
    "def _predict_and_enframe_trn(self: surveyors.VisitsSurveyor, model):\n",
    "    \"\"\"\n",
    "    Uses model to predict on the training data, and returns a dataframe with\n",
    "    the predictors and predictions.\n",
    "    \"\"\"\n",
    "    pred_dat = self._predict_and_enframe_subset(self.trn.X, self.trn.data, model)\n",
    "    pred_dat['visit_date'] = self.trn.data['visit_date']\n",
    "    for predictor in self.predictors:\n",
    "        pred_dat[predictor] = self.trn.data[predictor]\n",
    "    pred_dat['dataset'] = 'Training'\n",
    "    return pred_dat\n",
    "\n",
    "\n",
    "@patch\n",
    "def _predict_and_enframe_val(self: surveyors.VisitsSurveyor, model):\n",
    "    \"\"\"\n",
    "    Uses model to predict on the validation data, and returns a dataframe with\n",
    "    the predictors and predictions.\n",
    "    \"\"\"    \n",
    "    pred_dat = self._predict_and_enframe_subset(self.val.X, self.val.data, model)\n",
    "    for predictor in self.predictors:\n",
    "        pred_dat[predictor] = self.val.data[predictor]\n",
    "    pred_dat['dataset'] = 'Validation'\n",
    "    return pred_dat\n",
    "\n",
    "\n",
    "@patch\n",
    "def _predict_and_enframe_subset(\n",
    "        self: surveyors.VisitsSurveyor, \n",
    "        X: np.ndarray, dates_df: pd.DataFrame, model) -> pd.DataFrame:\n",
    "    \"\"\"\n",
    "    Predicts on `X` using `model`. Also stitches the predictions back together with\n",
    "    the `day` and `visit_date` columns from `dates_df`.\n",
    "    \"\"\"\n",
    "    p = model.predict(X)\n",
    "    means = [x[0] for x in p[0]]\n",
    "    variances = [x[0] for x in p[1]]\n",
    "    pred_dat = make_predictions_frame(days=dates_df['day'], dates=dates_df['visit_date'],\n",
    "                                      means=means, variances=variances)\n",
    "    pred_dat['Prediction'] = 'Prediction'\n",
    "    return pred_dat\n",
    "\n",
    "@patch\n",
    "def predict_and_enframe(self: surveyors.VisitsSurveyor, model) -> pd.DataFrame:\n",
    "    \"\"\"\n",
    "    Predicts on the training and validation sets using `model`, and\n",
    "    wraps them up into a nice return dataframe.\n",
    "    \"\"\"\n",
    "    trn_pred_dat = self._predict_and_enframe_trn(model)\n",
    "    val_pred_dat = self._predict_and_enframe_val(model)\n",
    "    pred_dat = pd.concat([trn_pred_dat, val_pred_dat])\n",
    "    pred_dat['group'] = 'group'\n",
    "    return pred_dat\n",
    "\n",
    "\n",
    "@patch\n",
    "def prepare_variables(self: surveyors.VisitsSurveyor) -> List[str]:\n",
    "    \"\"\"\n",
    "    Modifies and adds predictor variables.\n",
    "    \n",
    "    :return: the list of columns to use for prediction.\n",
    "    \"\"\"\n",
    "    self.visits['day_of_week'] = np.mod(self.visits['day'], DAYS_IN_WEEK)\n",
    "    self.visits['day_of_month'] = self.visits['visit_date'].apply(lambda d: d.day)\n",
    "    self.visits['day_of_year'] = self.visits['visit_date'].apply(lambda d: d.dayofyear)\n",
    "    return ['day', 'day_of_week', 'day_of_month', 'holiday_flg']"
   ]
  },
  {
   "cell_type": "code",
   "execution_count": 4,
   "metadata": {},
   "outputs": [],
   "source": [
    "MOST_OPEN_IND = 3\n",
    "target_id = surveyors.most_open_stores[MOST_OPEN_IND]\n",
    "single_store_visits: pd.DataFrame = (\n",
    "    core.data['visits']\n",
    "    .query(f\"air_store_id == '{target_id}'\")\n",
    "    .copy())\n",
    "single_store_reservations: pd.DataFrame = (\n",
    "    core.data['reservations']\n",
    "    .query(f\"air_store_id == '{target_id}'\")\n",
    "    .copy())"
   ]
  },
  {
   "cell_type": "code",
   "execution_count": null,
   "metadata": {},
   "outputs": [],
   "source": [
    "vs = surveyors.VisitsSurveyor(single_store_visits, False)\n",
    "rs = surveyors.ReservationsSurveyor(single_store_reservations)\n"
   ]
  },
  {
   "cell_type": "code",
   "execution_count": null,
   "metadata": {},
   "outputs": [],
   "source": [
    "predictors = vs.prepare_variables()\n",
    "vs.split_datasets(VAL_DAYS, predictors=predictors)\n"
   ]
  },
  {
   "cell_type": "code",
   "execution_count": null,
   "metadata": {},
   "outputs": [],
   "source": [
    "plot_single_timeseries(vs.visits)"
   ]
  },
  {
   "cell_type": "code",
   "execution_count": null,
   "metadata": {},
   "outputs": [],
   "source": [
    "base_kernel = GPy.kern.RBF(input_dim=vs.trn.X.shape[1], variance=1, lengthscale=3.0)\n",
    "periodic_kernel = GPy.kern.StdPeriodic(input_dim=1, variance=1, period=7.0, ARD1=False)\n",
    "\n",
    "kernel = base_kernel + periodic_kernel\n",
    "#kernel = base_kernel\n",
    "#kernel = periodic_kernel"
   ]
  },
  {
   "cell_type": "code",
   "execution_count": null,
   "metadata": {},
   "outputs": [],
   "source": [
    "model = GPy.models.GPRegression(vs.trn.X, vs.trn.y, kernel)\n",
    "# model.plot()"
   ]
  },
  {
   "cell_type": "code",
   "execution_count": null,
   "metadata": {},
   "outputs": [],
   "source": [
    "pred_dat = vs.predict_and_enframe(model)"
   ]
  },
  {
   "cell_type": "code",
   "execution_count": null,
   "metadata": {},
   "outputs": [],
   "source": [
    "pred_dat"
   ]
  },
  {
   "cell_type": "code",
   "execution_count": null,
   "metadata": {},
   "outputs": [],
   "source": [
    "prediction_plot = (\n",
    "    pn.ggplot(pn.aes(x='visit_date')) +\n",
    "    pn.geom_line(data=vs.visits, mapping=pn.aes(y='visitors', color='dataset', group='group')) +\n",
    "    pn.geom_ribbon(data=pred_dat, mapping=pn.aes(ymax='upper_bound', ymin='lower_bound', fill='Prediction'), \n",
    "                   alpha=0.65) +\n",
    "    pn.scale_fill_manual(values = [\"#8A2BE2\"]) +\n",
    "    default_date_scale() +\n",
    "    pn.ggtitle(\"|\".join(vs.predictors)) +\n",
    "    pn.theme_bw() +    \n",
    "    pn.theme(legend_title=pn.element_blank(),\n",
    "             legend_position=\"top\",\n",
    "             figure_size=(32, 5), \n",
    "             axis_text_x=pn.element_text(angle=270)))\n",
    "\n",
    "display(prediction_plot)"
   ]
  },
  {
   "cell_type": "code",
   "execution_count": null,
   "metadata": {},
   "outputs": [],
   "source": []
  },
  {
   "cell_type": "code",
   "execution_count": null,
   "metadata": {},
   "outputs": [],
   "source": []
  },
  {
   "cell_type": "code",
   "execution_count": null,
   "metadata": {},
   "outputs": [],
   "source": [
    "prediction_plot.save(\n",
    "    filename=f'predictions_valdays{VAL_DAYS}_{target_id}.png', format='png', path='intermediate', \n",
    "    width=30, height=6, units='in', dpi=220, limitsize=False)"
   ]
  },
  {
   "cell_type": "code",
   "execution_count": null,
   "metadata": {},
   "outputs": [],
   "source": []
  },
  {
   "cell_type": "code",
   "execution_count": null,
   "metadata": {},
   "outputs": [],
   "source": []
  }
 ],
 "metadata": {
  "kernelspec": {
   "display_name": "Python 3",
   "language": "python",
   "name": "python3"
  },
  "language_info": {
   "codemirror_mode": {
    "name": "ipython",
    "version": 3
   },
   "file_extension": ".py",
   "mimetype": "text/x-python",
   "name": "python",
   "nbconvert_exporter": "python",
   "pygments_lexer": "ipython3",
   "version": "3.8.6"
  }
 },
 "nbformat": 4,
 "nbformat_minor": 4
}
